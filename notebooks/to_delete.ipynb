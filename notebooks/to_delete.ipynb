{
 "cells": [
  {
   "cell_type": "code",
   "execution_count": 25,
   "id": "495700dc",
   "metadata": {},
   "outputs": [],
   "source": [
    "import pandas as pd\n",
    "from difflib import get_close_matches\n"
   ]
  },
  {
   "cell_type": "code",
   "execution_count": 26,
   "id": "2a397825",
   "metadata": {},
   "outputs": [],
   "source": [
    "salaires = [\"produits alimentaires\",\"vêtements, lingerie,chaussures,literies\", \"industrie textile\", \"industrie du papier\", \n",
    "            \"arts graphiques\", \"industrie chimique\", \"bois,liège,meubles\", \"pierre et terre\", \"industrie des métaux\",  \n",
    "            \"horlogerie\",\"bijouterie,gravure,frappe\",\"construction,charpenterie\",\"gaz,eau,éléctricité\",\"commerce de gros\",\n",
    "            \"commerce de détail\",\"banques,établissements financiers\",\"assurances privées\",\"agences,locations,consultations\",\n",
    "            \"affaires immobilières,location\",\"bureaux de consultation\",\"hôtellerie,restauration\",\"transports\",\"administration publique\",\n",
    "            \"réparations\", \"vachers célibataires\",\"employés pour tous,célibataires\",\"employées pour le ménage et la ferme\",\n",
    "            \"journaliers,entretien\",\"journalières,entretien\"]"
   ]
  },
  {
   "cell_type": "code",
   "execution_count": 27,
   "id": "f167c0a1",
   "metadata": {},
   "outputs": [],
   "source": [
    "\n",
    "df_encoded_1885 = pd.read_csv(\"../geocoding/out/geocoded_table_1885_clf.csv\")\n",
    "df_encoded_1901 = pd.read_csv(\"../geocoding/out/geocoded_table_1901_clf.csv\")\n",
    "df_encoded_1951 = pd.read_csv(\"../geocoding/out/geocoded_table_1951_clf.csv\")\n"
   ]
  },
  {
   "cell_type": "code",
   "execution_count": 22,
   "id": "c179f0fe",
   "metadata": {},
   "outputs": [],
   "source": [
    "def find_closest_job(job):\n",
    "    matches = get_close_matches(job, salaires, n=1, cutoff=0.5)\n",
    "    if matches:\n",
    "        col = matches[0]\n",
    "    else:\n",
    "        col = job\n",
    "    return col\n",
    "df_encoded_1885['job_clf'] = df_encoded_1885['job_clf'].apply(find_closest_job)\n",
    "df_encoded_1901['job_clf'] = df_encoded_1901['job_clf'].apply(find_closest_job)\n",
    "df_encoded_1951['job_clf'] = df_encoded_1951['job_clf'].apply(find_closest_job)\n"
   ]
  },
  {
   "cell_type": "code",
   "execution_count": null,
   "id": "c4144710",
   "metadata": {},
   "outputs": [],
   "source": [
    "df_encoded_1885.to_csv(\"../geocoding/out/geocoded_table_1885_clf_v2.csv\")\n",
    "df_encoded_1901.to_csv(\"../geocoding/out/geocoded_table_1901_clf_v2.csv\")\n",
    "df_encoded_1951.to_csv(\"../geocoding/out/geocoded_table_1951_clf_v2.csv\")"
   ]
  },
  {
   "cell_type": "code",
   "execution_count": 24,
   "id": "b5f86437",
   "metadata": {},
   "outputs": [
    {
     "data": {
      "application/vnd.microsoft.datawrangler.viewer.v0+json": {
       "columns": [
        {
         "name": "index",
         "rawType": "int64",
         "type": "integer"
        },
        {
         "name": "LOC",
         "rawType": "object",
         "type": "string"
        },
        {
         "name": "job",
         "rawType": "object",
         "type": "string"
        },
        {
         "name": "job_clf",
         "rawType": "object",
         "type": "string"
        },
        {
         "name": "salaire",
         "rawType": "float64",
         "type": "float"
        },
        {
         "name": "POS",
         "rawType": "object",
         "type": "unknown"
        },
        {
         "name": "COOR",
         "rawType": "object",
         "type": "unknown"
        }
       ],
       "ref": "9196d773-9cbb-490c-bc07-7c1f1da0b7df",
       "rows": [
        [
         "0",
         "St-Pierre, 11",
         "tourneur', 'articles pr fumeurs,cigares et tabacs",
         "industrie du papier",
         "112.24534563248874",
         null,
         null
        ],
        [
         "1",
         "la Sallaz",
         "charron",
         "construction,charpenterie",
         "101.77428426795748",
         "Place de la Sallaz, Lausanne, District de Lausanne, Vaud, Schweiz/Suisse/Svizzera/Svizra",
         "(46.5327503, 6.6470193)"
        ],
        [
         "2",
         "Cliaucrau,13.",
         "empi.au Gaz",
         "gaz,eau,éléctricité",
         "115.18167500984408",
         null,
         null
        ],
        [
         "3",
         "Escalier desGrandes-Roelies, 27",
         "journalier",
         "journaliers,entretien",
         "1.5097165194892983",
         null,
         null
        ],
        [
         "4",
         "Esc. Gr.-Roches, 27",
         "couturière",
         "vêtements, lingerie,chaussures,literies",
         "103.27015017717623",
         null,
         null
        ],
        [
         "5",
         "Esc. Gr.-Roches, 27",
         "couturière",
         "vêtements, lingerie,chaussures,literies",
         "103.27015017717623",
         null,
         null
        ],
        [
         "6",
         "Cité-Derrière, 14",
         "maître gypsier', 'peintre en bâtiments",
         "construction,charpenterie",
         "101.77428426795748",
         "14, Rue Cité-Derrière, Lausanne, District de Lausanne, Vaud, 1005, Schweiz/Suisse/Svizzera/Svizra",
         "(46.5233124, 6.6361639)"
        ],
        [
         "7",
         "Gr.-St-Jean. 5",
         "épicerie, mercerie, fromages",
         "commerce de détail",
         "99.33657686034172",
         null,
         null
        ],
        [
         "8",
         "Cheneau-de-Bourg, 26",
         "couturière",
         "vêtements, lingerie,chaussures,literies",
         "103.27015017717623",
         "Rue Cheneau-de-Bourg, Lausanne, District de Lausanne, Vaud, 1003, Schweiz/Suisse/Svizzera/Svizra",
         "(46.5204463, 6.6363592)"
        ],
        [
         "9",
         "Cheneau-de-Bourg, 5",
         "boucher",
         "produits alimentaires",
         "108.9211991675582",
         "5, Rue Cheneau-de-Bourg, Lausanne, District de Lausanne, Vaud, 1003, Schweiz/Suisse/Svizzera/Svizra",
         "(46.5207447, 6.6366354)"
        ],
        [
         "10",
         "r. la Tour, 1', '.",
         "journalière",
         "journalières,entretien",
         "1.1468305304010449",
         "1, Rue de la Tour, Lausanne, District de Lausanne, Vaud, 1004, Schweiz/Suisse/Svizzera/Svizra",
         "(46.5233726, 6.6296799)"
        ],
        [
         "11",
         "pl. du Turnici, 5",
         "veuve",
         "employées pour le ménage et la ferme",
         "21.10833005230909",
         null,
         null
        ],
        [
         "12",
         "Maupas, 6', 'Domicile,Halle, 40",
         "peintre en voitures et carrossier (atelier",
         "industrie des métaux",
         "104.54440632206628",
         null,
         null
        ],
        [
         "13",
         "Chaucrau, 9",
         "limonadiers', 'fab.d’eaux gazeuses",
         "produits alimentaires",
         "108.9211991675582",
         "Rue Chaucrau, Lausanne, District de Lausanne, Vaud, 1003, Schweiz/Suisse/Svizzera/Svizra",
         "(46.522854, 6.6309272)"
        ],
        [
         "14",
         "r. de la Tour,14,",
         "maîtres gypsiers etpeintres en bâtiments",
         "construction,charpenterie",
         "101.77428426795748",
         "14, Rue de la Tour, Lausanne, District de Lausanne, Vaud, 1004, Schweiz/Suisse/Svizzera/Svizra",
         "(46.5237573, 6.628834)"
        ],
        [
         "15",
         "Gr.-Saint-Jean, 23",
         "limonadier",
         "hôtellerie,restauration",
         "80.29707511748765",
         null,
         null
        ],
        [
         "16",
         "r. de la Tour, 14",
         "gypsier",
         "réparations",
         "89.27909295407993",
         "14, Rue de la Tour, Lausanne, District de Lausanne, Vaud, 1004, Schweiz/Suisse/Svizzera/Svizra",
         "(46.5237573, 6.628834)"
        ],
        [
         "17",
         "r. de la Tour, 14",
         "gypsier",
         "réparations",
         "89.27909295407993",
         "14, Rue de la Tour, Lausanne, District de Lausanne, Vaud, 1004, Schweiz/Suisse/Svizzera/Svizra",
         "(46.5237573, 6.628834)"
        ],
        [
         "18",
         "la Perraudettaz",
         "gypsier",
         "réparations",
         "89.27909295407993",
         null,
         null
        ],
        [
         "19",
         "r. Haldimand, 5",
         "notaire (bureau Boven,notaire",
         "bureaux de consultation",
         "106.97258592134304",
         "5, Rue William-Haldimand, Lausanne, District de Lausanne, Vaud, 1003, Schweiz/Suisse/Svizzera/Svizra",
         "(46.5226726, 6.6316211)"
        ],
        [
         "20",
         "r. du Tunnel, 8",
         ".. facteur postal",
         "transports",
         "101.82968670903963",
         "Rue du Tunnel, Lausanne, District de Lausanne, Vaud, 1014, Schweiz/Suisse/Svizzera/Svizra",
         "(46.5242954, 6.6327089)"
        ],
        [
         "21",
         "pl. Grand-St-.Tcan, 2",
         "horloger",
         "horlogerie",
         "103.87957702908017",
         null,
         null
        ],
        [
         "22",
         "r.de la Tour, 1', '.",
         "employé postal",
         "administration publique",
         "113.65499075760296",
         "1, Rue de la Tour, Lausanne, District de Lausanne, Vaud, 1004, Schweiz/Suisse/Svizzera/Svizra",
         "(46.5233726, 6.6296799)"
        ],
        [
         "23",
         "Pet.-Saint-Jcan , 5', 'Domicile, la Gracieuse,Montagibert",
         "boucher (boucherie', '-6",
         "produits alimentaires",
         "108.9211991675582",
         null,
         null
        ],
        [
         "24",
         "aux Plaines du Loup",
         "menuisier-charpentier",
         "construction,charpenterie",
         "101.77428426795748",
         null,
         null
        ],
        [
         "25",
         "r. St-François, 21",
         "typogr', '22.",
         "arts graphiques",
         "107.0375161707642",
         "Rue Saint-François, Lausanne, District de Lausanne, Vaud, 1003, Schweiz/Suisse/Svizzera/Svizra",
         "(46.5205352, 6.6338476)"
        ],
        [
         "26",
         "Maupas, 30",
         "allumeur ile gaz",
         "gaz,eau,éléctricité",
         "115.18167500984408",
         "30, Rue du Maupas, Lausanne, District de Lausanne, Vaud, 1004, Schweiz/Suisse/Svizzera/Svizra",
         "(46.5255236, 6.6249311)"
        ],
        [
         "27",
         "Maupas, 30",
         "journalier",
         "journaliers,entretien",
         "1.5097165194892983",
         "30, Rue du Maupas, Lausanne, District de Lausanne, Vaud, 1004, Schweiz/Suisse/Svizzera/Svizra",
         "(46.5255236, 6.6249311)"
        ],
        [
         "28",
         "Maupas, 30",
         "demois. de magasin",
         "commerce de détail",
         "99.33657686034172",
         "30, Rue du Maupas, Lausanne, District de Lausanne, Vaud, 1004, Schweiz/Suisse/Svizzera/Svizra",
         "(46.5255236, 6.6249311)"
        ],
        [
         "29",
         "r. du Pré, 45",
         "blanchisseuse-repasseuse",
         "employées pour le ménage et la ferme",
         "21.10833005230909",
         "Rue Pré-du-Marché, Lausanne, District de Lausanne, Vaud, 1002, Schweiz/Suisse/Svizzera/Svizra",
         "(46.5255253, 6.629318)"
        ],
        [
         "30",
         "r. du Pré, 45",
         "journalière",
         "journalières,entretien",
         "1.1468305304010449",
         "Rue Pré-du-Marché, Lausanne, District de Lausanne, Vaud, 1002, Schweiz/Suisse/Svizzera/Svizra",
         "(46.5255253, 6.629318)"
        ],
        [
         "31",
         "r. du Pré, 28",
         "cordonnier",
         "vêtements, lingerie,chaussures,literies",
         "103.27015017717623",
         "28, Rue Pré-du-Marché, Lausanne, District de Lausanne, Vaud, 1003, Schweiz/Suisse/Svizzera/Svizra",
         "(46.5243617, 6.6301476)"
        ],
        [
         "32",
         "pl.St-Laurent', 'G.",
         "maître tailleur",
         "industrie textile",
         "104.82141852747716",
         "Place du 14-Juin, Lausanne, District de Lausanne, Vaud, Schweiz/Suisse/Svizzera/Svizra",
         "(46.5223443, 6.6307825)"
        ],
        [
         "33",
         "Petit-St-Jean, 14",
         "m. cordonnier",
         "vêtements, lingerie,chaussures,literies",
         "103.27015017717623",
         "Rue du Petit-Saint-Jean, Lausanne, District de Lausanne, Vaud, 1003, Schweiz/Suisse/Svizzera/Svizra",
         "(46.5211232, 6.6328671)"
        ],
        [
         "34",
         "r. Grand-St-Jean, 23",
         "tailleuse",
         "vêtements, lingerie,chaussures,literies",
         "103.27015017717623",
         "Rue Grand-Saint-Jean, Lausanne, District de Lausanne, Vaud, 1003, Schweiz/Suisse/Svizzera/Svizra",
         "(46.5213634, 6.6315616)"
        ],
        [
         "35",
         "la Clématite,route de Morges",
         "institutrice', ', pensionnat de demoiselles",
         "employées pour le ménage et la ferme",
         "21.10833005230909",
         null,
         null
        ],
        [
         "36",
         "r. St-Laurent, 18",
         "couturière",
         "vêtements, lingerie,chaussures,literies",
         "103.27015017717623",
         "18, Rue Saint-Laurent, Lausanne, District de Lausanne, Vaud, 1003, Schweiz/Suisse/Svizzera/Svizra",
         "(46.522384, 6.6311382)"
        ],
        [
         "37",
         "Maupas, 4",
         "domestique",
         "employées pour le ménage et la ferme",
         "21.10833005230909",
         "4, Rue du Maupas, Lausanne, District de Lausanne, Vaud, 1004, Schweiz/Suisse/Svizzera/Svizra",
         "(46.5239144, 6.6273256)"
        ],
        [
         "38",
         "Escalier-du-Marché, 10",
         "veuve d’Henri,chapelière",
         "vêtements, lingerie,chaussures,literies",
         "103.27015017717623",
         null,
         null
        ],
        [
         "39",
         "Halle, 15",
         "boucher",
         "produits alimentaires",
         "108.9211991675582",
         "Halle 15, 15, Avenue de Sévelin, Lausanne, District de Lausanne, Vaud, 1004, Schweiz/Suisse/Svizzera/Svizra",
         "(46.5240047, 6.6148142)"
        ],
        [
         "40",
         ". de la Louve, 3', 'rue duPont, 13",
         "épicerie, vins (magasin),r",
         "commerce de détail",
         "99.33657686034172",
         null,
         null
        ],
        [
         "41",
         "le Bosquet, Terreaux, 2",
         "rentière",
         "affaires immobilières,location",
         "91.06467481316152",
         null,
         null
        ],
        [
         "42",
         "le Bosquet, Terreaux, 2",
         "rent",
         "affaires immobilières,location",
         "91.06467481316152",
         null,
         null
        ],
        [
         "43",
         "Martheray, 48",
         "modiste",
         "vêtements, lingerie,chaussures,literies",
         "103.27015017717623",
         "Chemin de Martheray, Cheseaux-sur-Lausanne, District de Lausanne, Vaud, 1033, Schweiz/Suisse/Svizzera/Svizra",
         "(46.582302, 6.5960197)"
        ],
        [
         "44",
         "Martheray, 48",
         "tailleuse",
         "vêtements, lingerie,chaussures,literies",
         "103.27015017717623",
         "Chemin de Martheray, Cheseaux-sur-Lausanne, District de Lausanne, Vaud, 1033, Schweiz/Suisse/Svizzera/Svizra",
         "(46.582302, 6.5960197)"
        ],
        [
         "45",
         "av. Davcl, 2",
         "etentrepreneur en ciment",
         "pierre et terre",
         "107.81315034591466",
         null,
         null
        ],
        [
         "46",
         "Maupas, 34",
         "menuisier",
         "bois,liège,meubles",
         "99.28117441925954",
         "34, Rue du Maupas, Lausanne, District de Lausanne, Vaud, 1002, Schweiz/Suisse/Svizzera/Svizra",
         "(46.525733, 6.6246149)"
        ],
        [
         "47",
         "pl.Madeleine, 2",
         "piqueur des travaux de la commune de Lausanne",
         "administration publique",
         "113.65499075760296",
         "Place Madeleine, Lausanne, District de Lausanne, Vaud, Schweiz/Suisse/Svizzera/Svizra",
         "(46.5228961, 6.6332961)"
        ],
        [
         "48",
         "pl. Madeleine, 2",
         "veuve', 'rentière",
         "assurances privées",
         "104.32279655773756",
         "Place Madeleine, Lausanne, District de Lausanne, Vaud, Schweiz/Suisse/Svizzera/Svizra",
         "(46.5228961, 6.6332961)"
        ],
        [
         "49",
         "quartier du Tunnel, 7",
         "rentière",
         "affaires immobilières,location",
         "91.06467481316152",
         null,
         null
        ]
       ],
       "shape": {
        "columns": 6,
        "rows": 9657
       }
      },
      "text/html": [
       "<div>\n",
       "<style scoped>\n",
       "    .dataframe tbody tr th:only-of-type {\n",
       "        vertical-align: middle;\n",
       "    }\n",
       "\n",
       "    .dataframe tbody tr th {\n",
       "        vertical-align: top;\n",
       "    }\n",
       "\n",
       "    .dataframe thead th {\n",
       "        text-align: right;\n",
       "    }\n",
       "</style>\n",
       "<table border=\"1\" class=\"dataframe\">\n",
       "  <thead>\n",
       "    <tr style=\"text-align: right;\">\n",
       "      <th></th>\n",
       "      <th>LOC</th>\n",
       "      <th>job</th>\n",
       "      <th>job_clf</th>\n",
       "      <th>salaire</th>\n",
       "      <th>POS</th>\n",
       "      <th>COOR</th>\n",
       "    </tr>\n",
       "  </thead>\n",
       "  <tbody>\n",
       "    <tr>\n",
       "      <th>0</th>\n",
       "      <td>St-Pierre, 11</td>\n",
       "      <td>tourneur', 'articles pr fumeurs,cigares et tabacs</td>\n",
       "      <td>industrie du papier</td>\n",
       "      <td>112.245346</td>\n",
       "      <td>NaN</td>\n",
       "      <td>NaN</td>\n",
       "    </tr>\n",
       "    <tr>\n",
       "      <th>1</th>\n",
       "      <td>la Sallaz</td>\n",
       "      <td>charron</td>\n",
       "      <td>construction,charpenterie</td>\n",
       "      <td>101.774284</td>\n",
       "      <td>Place de la Sallaz, Lausanne, District de Laus...</td>\n",
       "      <td>(46.5327503, 6.6470193)</td>\n",
       "    </tr>\n",
       "    <tr>\n",
       "      <th>2</th>\n",
       "      <td>Cliaucrau,13.</td>\n",
       "      <td>empi.au Gaz</td>\n",
       "      <td>gaz,eau,éléctricité</td>\n",
       "      <td>115.181675</td>\n",
       "      <td>NaN</td>\n",
       "      <td>NaN</td>\n",
       "    </tr>\n",
       "    <tr>\n",
       "      <th>3</th>\n",
       "      <td>Escalier desGrandes-Roelies, 27</td>\n",
       "      <td>journalier</td>\n",
       "      <td>journaliers,entretien</td>\n",
       "      <td>1.509717</td>\n",
       "      <td>NaN</td>\n",
       "      <td>NaN</td>\n",
       "    </tr>\n",
       "    <tr>\n",
       "      <th>4</th>\n",
       "      <td>Esc. Gr.-Roches, 27</td>\n",
       "      <td>couturière</td>\n",
       "      <td>vêtements, lingerie,chaussures,literies</td>\n",
       "      <td>103.270150</td>\n",
       "      <td>NaN</td>\n",
       "      <td>NaN</td>\n",
       "    </tr>\n",
       "    <tr>\n",
       "      <th>...</th>\n",
       "      <td>...</td>\n",
       "      <td>...</td>\n",
       "      <td>...</td>\n",
       "      <td>...</td>\n",
       "      <td>...</td>\n",
       "      <td>...</td>\n",
       "    </tr>\n",
       "    <tr>\n",
       "      <th>9652</th>\n",
       "      <td>Etraz, 2ü</td>\n",
       "      <td>lithographie(atelier et domicile</td>\n",
       "      <td>arts graphiques</td>\n",
       "      <td>107.037516</td>\n",
       "      <td>Rue Etraz, Lausanne, District de Lausanne, Vau...</td>\n",
       "      <td>(46.5193358, 6.6385998)</td>\n",
       "    </tr>\n",
       "    <tr>\n",
       "      <th>9653</th>\n",
       "      <td>r. d’Etraz, 26</td>\n",
       "      <td>lithographe</td>\n",
       "      <td>arts graphiques</td>\n",
       "      <td>107.037516</td>\n",
       "      <td>NaN</td>\n",
       "      <td>NaN</td>\n",
       "    </tr>\n",
       "    <tr>\n",
       "      <th>9654</th>\n",
       "      <td>r. de Bourg, 9</td>\n",
       "      <td>commis</td>\n",
       "      <td>commerce de détail</td>\n",
       "      <td>99.336577</td>\n",
       "      <td>9, Rue de Bourg, Lausanne, District de Lausann...</td>\n",
       "      <td>(46.5202262, 6.6343293)</td>\n",
       "    </tr>\n",
       "    <tr>\n",
       "      <th>9655</th>\n",
       "      <td>Chemin-Neuf, 14</td>\n",
       "      <td>menuisier</td>\n",
       "      <td>bois,liège,meubles</td>\n",
       "      <td>99.281174</td>\n",
       "      <td>Chemin Neuf, Bussigny, District de l'Ouest lau...</td>\n",
       "      <td>(46.5588414, 6.5328541)</td>\n",
       "    </tr>\n",
       "    <tr>\n",
       "      <th>9656</th>\n",
       "      <td>r. du Pré, 23</td>\n",
       "      <td>tanneur</td>\n",
       "      <td>industrie chimique</td>\n",
       "      <td>120.666517</td>\n",
       "      <td>23, Rue Pré-du-Marché, Lausanne, District de L...</td>\n",
       "      <td>(46.5249592, 6.6288607)</td>\n",
       "    </tr>\n",
       "  </tbody>\n",
       "</table>\n",
       "<p>9657 rows × 6 columns</p>\n",
       "</div>"
      ],
      "text/plain": [
       "                                  LOC  \\\n",
       "0                       St-Pierre, 11   \n",
       "1                           la Sallaz   \n",
       "2                       Cliaucrau,13.   \n",
       "3     Escalier desGrandes-Roelies, 27   \n",
       "4                 Esc. Gr.-Roches, 27   \n",
       "...                               ...   \n",
       "9652                        Etraz, 2ü   \n",
       "9653                   r. d’Etraz, 26   \n",
       "9654                   r. de Bourg, 9   \n",
       "9655                  Chemin-Neuf, 14   \n",
       "9656                    r. du Pré, 23   \n",
       "\n",
       "                                                    job  \\\n",
       "0     tourneur', 'articles pr fumeurs,cigares et tabacs   \n",
       "1                                               charron   \n",
       "2                                           empi.au Gaz   \n",
       "3                                            journalier   \n",
       "4                                            couturière   \n",
       "...                                                 ...   \n",
       "9652                   lithographie(atelier et domicile   \n",
       "9653                                        lithographe   \n",
       "9654                                             commis   \n",
       "9655                                          menuisier   \n",
       "9656                                            tanneur   \n",
       "\n",
       "                                      job_clf     salaire  \\\n",
       "0                         industrie du papier  112.245346   \n",
       "1                   construction,charpenterie  101.774284   \n",
       "2                         gaz,eau,éléctricité  115.181675   \n",
       "3                       journaliers,entretien    1.509717   \n",
       "4     vêtements, lingerie,chaussures,literies  103.270150   \n",
       "...                                       ...         ...   \n",
       "9652                          arts graphiques  107.037516   \n",
       "9653                          arts graphiques  107.037516   \n",
       "9654                       commerce de détail   99.336577   \n",
       "9655                       bois,liège,meubles   99.281174   \n",
       "9656                       industrie chimique  120.666517   \n",
       "\n",
       "                                                    POS  \\\n",
       "0                                                   NaN   \n",
       "1     Place de la Sallaz, Lausanne, District de Laus...   \n",
       "2                                                   NaN   \n",
       "3                                                   NaN   \n",
       "4                                                   NaN   \n",
       "...                                                 ...   \n",
       "9652  Rue Etraz, Lausanne, District de Lausanne, Vau...   \n",
       "9653                                                NaN   \n",
       "9654  9, Rue de Bourg, Lausanne, District de Lausann...   \n",
       "9655  Chemin Neuf, Bussigny, District de l'Ouest lau...   \n",
       "9656  23, Rue Pré-du-Marché, Lausanne, District de L...   \n",
       "\n",
       "                         COOR  \n",
       "0                         NaN  \n",
       "1     (46.5327503, 6.6470193)  \n",
       "2                         NaN  \n",
       "3                         NaN  \n",
       "4                         NaN  \n",
       "...                       ...  \n",
       "9652  (46.5193358, 6.6385998)  \n",
       "9653                      NaN  \n",
       "9654  (46.5202262, 6.6343293)  \n",
       "9655  (46.5588414, 6.5328541)  \n",
       "9656  (46.5249592, 6.6288607)  \n",
       "\n",
       "[9657 rows x 6 columns]"
      ]
     },
     "execution_count": 24,
     "metadata": {},
     "output_type": "execute_result"
    }
   ],
   "source": [
    "df_encoded_1885"
   ]
  }
 ],
 "metadata": {
  "kernelspec": {
   "display_name": "ada_2",
   "language": "python",
   "name": "python3"
  },
  "language_info": {
   "codemirror_mode": {
    "name": "ipython",
    "version": 3
   },
   "file_extension": ".py",
   "mimetype": "text/x-python",
   "name": "python",
   "nbconvert_exporter": "python",
   "pygments_lexer": "ipython3",
   "version": "3.12.7"
  }
 },
 "nbformat": 4,
 "nbformat_minor": 5
}
