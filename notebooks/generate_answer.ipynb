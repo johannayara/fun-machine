{
 "cells": [
  {
   "cell_type": "code",
   "execution_count": 1,
   "id": "a34cda9a",
   "metadata": {},
   "outputs": [],
   "source": [
    "import openai\n",
    "import pandas as pd\n",
    "import numpy as np\n",
    "import ast\n",
    "import csv\n",
    "import concurrent.futures\n",
    "import os\n",
    "import threading\n",
    "\n",
    "lock = threading.Lock()"
   ]
  },
  {
   "cell_type": "code",
   "execution_count": 2,
   "id": "c4c633a2",
   "metadata": {},
   "outputs": [
    {
     "data": {
      "text/plain": [
       "['.git',\n",
       " '.gitignore',\n",
       " '.gitmodules',\n",
       " 'classification',\n",
       " 'data',\n",
       " 'data_processing',\n",
       " 'failed_attemps',\n",
       " 'geocoding',\n",
       " 'LICENSE',\n",
       " 'notebooks',\n",
       " 'plots',\n",
       " 'README.md',\n",
       " 'topjobs']"
      ]
     },
     "execution_count": 2,
     "metadata": {},
     "output_type": "execute_result"
    }
   ],
   "source": [
    "os.listdir(\"..\")"
   ]
  },
  {
   "cell_type": "code",
   "execution_count": 3,
   "id": "dcec2fc0",
   "metadata": {},
   "outputs": [],
   "source": [
    "salaires = [\"produits alimentaires\",\"vêtements, lingerie,chaussures,literies\", \"industrie textile\", \"industrie du papier\", \n",
    "            \"arts graphiques\", \"industrie chimique\", \"bois,liège,meubles\", \"pierre et terre\", \"industrie des métaux\",  \n",
    "            \"horlogerie\",\"bijouterie,gravure,frappe\",\"construction,charpenterie\",\"gaz,eau,éléctricité\",\"commerce de gros\",\n",
    "            \"commerce de détail\",\"banques,établissements financiers\",\"assurances privées\",\"agences,locations,consultations\",\n",
    "            \"affaires immobilières,location\",\"bureaux de consultation\",\"hôtellerie,restauration\",\"transports\",\"administration publique\",\n",
    "            \"réparations\", \"vachers célibataires\",\"employés pour tous,célibataires\",\"employées pour le ménage et la ferme\",\n",
    "            \"journaliers,entretien\",\"journalières,entretien\"]"
   ]
  },
  {
   "cell_type": "code",
   "execution_count": 5,
   "id": "8c4b9e2e",
   "metadata": {},
   "outputs": [],
   "source": [
    "df = pd.concat([pd.read_csv(os.path.join(\"..\", \"data\", df_clf)) for df_clf in os.listdir('../data') if df_clf.endswith('_clf.csv') and '1923' not in df_clf])\n",
    "df_salaire = pd.read_excel('../data/SHS_TM.xlsx',index_col=0, header=1)\n",
    "\n",
    "# get every job already classified, so if we encounter this job again, we dont have to recompute its classification\n",
    "dict_clf = {}\n",
    "def create_dict_job_clf(df):\n",
    "    for _, row in df.iterrows():\n",
    "        job, job_clf = row.job, row.job_clf\n",
    "        dict_clf[job] = job_clf\n",
    "    \n",
    "    return dict_clf\n",
    "dict_clf = create_dict_job_clf(df)\n",
    "\n",
    "tdf = pd.read_csv(\"../data/table_1923.csv\").dropna()\n",
    "tdf['job_clf'] = tdf.JOB.apply(lambda x: dict_clf.get(x, None))\n",
    "tdf.dropna(inplace=True)\n",
    "tdf['salaire'] = tdf.job_clf.apply(lambda x: df_salaire[x].loc[1923])\n",
    "\n",
    "from difflib import get_close_matches\n",
    "def find_closest_job(job):\n",
    "    matches = get_close_matches(job, salaires, n=1, cutoff=0.5)\n",
    "    if matches:\n",
    "        col = matches[0]\n",
    "    else:\n",
    "        col = job\n",
    "    return col\n",
    "tdf['job_clf'] = tdf['job_clf'].apply(find_closest_job)"
   ]
  },
  {
   "cell_type": "code",
   "execution_count": 7,
   "id": "80261a00",
   "metadata": {},
   "outputs": [],
   "source": [
    "tdf.to_csv(\"../data/table_1923_clf_v2.csv\")"
   ]
  },
  {
   "cell_type": "code",
   "execution_count": 20,
   "id": "322b082a",
   "metadata": {},
   "outputs": [],
   "source": [
    "def load_df(path_annuaire):\n",
    "    \"\"\"_summary_\n",
    "\n",
    "    Args:\n",
    "        path_annuaire (str): patht to the annuaire\n",
    "\n",
    "    Returns:\n",
    "        pd.DataFrame: a DataFrame cleaned\n",
    "    \"\"\"\n",
    "    df = pd.read_csv(path_annuaire).rename(columns={'JOB':'job'})\n",
    "    df = df.dropna().reset_index(drop=True)\n",
    "    return df\n",
    "df_table = load_df('data/table_1951.csv')"
   ]
  },
  {
   "cell_type": "code",
   "execution_count": 21,
   "id": "748adbd7",
   "metadata": {},
   "outputs": [],
   "source": [
    "def classify_job_already_classified(df):\n",
    "    \"\"\"_summary_\n",
    "        En gros, avec category_mapping on a deja classifier des métiers, au lieu\n",
    "        de reclassifier avec le LLM qui est cher et long, on map les métiers deja classifier\n",
    "        \n",
    "    \"\"\"\n",
    "    df['job_clf'] = df.job.apply(lambda x: dict_clf.get(x, None))\n",
    "    return df.copy(deep=True)\n"
   ]
  },
  {
   "cell_type": "code",
   "execution_count": 22,
   "id": "de41d25e",
   "metadata": {},
   "outputs": [],
   "source": [
    "df_table = classify_job_already_classified(df_table)"
   ]
  },
  {
   "cell_type": "code",
   "execution_count": 23,
   "id": "f2a5d887",
   "metadata": {},
   "outputs": [],
   "source": [
    "#Load the api_key\n",
    "path_key = \"../../key_openai/key.txt\"\n",
    "try:\n",
    "    with open(path_key, 'r') as file:\n",
    "        api_key = file.read().strip()  \n",
    "except Exception as e:\n",
    "    print(f\"error : {e}\")"
   ]
  },
  {
   "cell_type": "code",
   "execution_count": null,
   "id": "478b6e1b",
   "metadata": {},
   "outputs": [],
   "source": [
    "client = openai.Client(api_key=api_key, base_url=\"https://fmapi.swissai.cscs.ch/\")\n",
    "\n",
    "output_file = \"data/table_1951_clf.csv\"\n",
    "\n",
    "with open(output_file, mode='w', newline='', encoding='utf-8') as f:\n",
    "    writer = csv.writer(f)\n",
    "    writer.writerow([\"job\", \"answer\"])  \n",
    "\n",
    "def classify_job(job, job_clf):\n",
    "    if job_clf != None:\n",
    "        with open(output_file, mode='a', newline='', encoding='utf-8') as f:\n",
    "            writer = csv.writer(f)\n",
    "            writer.writerow([job, job_clf])\n",
    "        return job_clf\n",
    "    \n",
    "    system_message = {\n",
    "        \"role\": \"system\",\n",
    "        \"content\": (\n",
    "            f\"You'll be given a job and you'll have to classify it according to the nearest job in a list we give you: {salaires}. Answer only with the profession in which you classify the job you are given\"\n",
    "        ),\n",
    "    }\n",
    "    answer = 'not a job'\n",
    "    idx = 0 \n",
    "\n",
    "    while answer not in salaires:\n",
    "        idx += 1\n",
    "        if idx == 10:\n",
    "            answer = None\n",
    "            break\n",
    "\n",
    "        user_message = {\n",
    "            \"role\": \"user\",\n",
    "            \"content\": f\"{job}\"\n",
    "        }\n",
    "\n",
    "        res = client.chat.completions.create(\n",
    "            model=\"meta-llama/Llama-3.3-70B-Instruct\",\n",
    "            messages=[system_message, user_message],\n",
    "            max_tokens=40,\n",
    "            stream=True,\n",
    "        )\n",
    "\n",
    "        answer = \"\"\n",
    "        for chunk in res:\n",
    "            if len(chunk.choices) > 0 and chunk.choices[0].delta.content:\n",
    "                answer += chunk.choices[0].delta.content\n",
    "    with lock:\n",
    "        dict_clf[job] = answer\n",
    "    with open(output_file, mode='a', newline='', encoding='utf-8') as f:\n",
    "        writer = csv.writer(f)\n",
    "        writer.writerow([job, answer])\n",
    "\n",
    "    return answer"
   ]
  },
  {
   "cell_type": "code",
   "execution_count": 25,
   "id": "38d22077",
   "metadata": {},
   "outputs": [],
   "source": [
    "def process_row(idx_row_tuple):\n",
    "    idx, row = idx_row_tuple\n",
    "    job_clf = classify_job(row.job, row.job_clf)\n",
    "    return idx, job_clf\n",
    "\n",
    "# Créer une liste de tuples (index, row)\n",
    "rows_to_process = list(df_table.iterrows())\n",
    "\n",
    "# Utiliser ThreadPoolExecutor au lieu de ProcessPoolExecutor\n",
    "with concurrent.futures.ThreadPoolExecutor() as executor:\n",
    "    results = executor.map(process_row, rows_to_process)\n",
    "    \n",
    "    # Mettre à jour le DataFrame avec les résultats\n",
    "    for idx, job_clf in results:\n",
    "        df_table.loc[idx, 'job_clf'] = job_clf"
   ]
  },
  {
   "cell_type": "code",
   "execution_count": 26,
   "id": "ce2d8108",
   "metadata": {},
   "outputs": [
    {
     "data": {
      "application/vnd.microsoft.datawrangler.viewer.v0+json": {
       "columns": [
        {
         "name": "index",
         "rawType": "int64",
         "type": "integer"
        },
        {
         "name": "LOC",
         "rawType": "object",
         "type": "string"
        },
        {
         "name": "job",
         "rawType": "object",
         "type": "string"
        },
        {
         "name": "job_clf",
         "rawType": "object",
         "type": "unknown"
        }
       ],
       "conversionMethod": "pd.DataFrame",
       "ref": "d8fe623b-7108-43a0-b903-245a37db3b4c",
       "rows": [
        [
         "0",
         "r.Ste-Beuve 7",
         "professeur",
         "agences,locations,consultations"
        ],
        [
         "1",
         "Montbenon 1.T. 22",
         "Arc (cercle)",
         "arts graphiques"
        ],
        [
         "2",
         "Bereiéres 20",
         "cuisinier",
         "hôtellerie,restauration"
        ],
        [
         "3",
         ",av. Tivoli 25",
         "mont, en chauff",
         "transports"
        ],
        [
         "4",
         "ch.de Fontenay 15",
         "télégraphiste",
         "agences,locations,consultations"
        ],
        [
         "5",
         "ch.des Sablons 7",
         "control. L.-O.",
         "administration publique"
        ],
        [
         "6",
         "avenueBereiéres 20",
         "maçon",
         "construction,charpenterie"
        ],
        [
         "7",
         "r. Marterey 50.Ap._ et At",
         "cout",
         "industrie textile"
        ],
        [
         "8",
         "rueMarterey 50.",
         "maçon",
         "construction,charpenterie"
        ],
        [
         "9",
         "av.d’Echallens 68",
         "empi, bancrue",
         "banques,établissements financiers"
        ],
        [
         "10",
         "av. d’Echallens 68",
         "représentant",
         "commerce de gros"
        ],
        [
         "11",
         "av. d’Echallens 4', 'a.T.",
         "comptable-contentieux",
         "banques,établissements financiers"
        ],
        [
         "12",
         "av. Harpe 1",
         "étudiant",
         "agences,locations,consultations"
        ],
        [
         "13",
         "aven.d’Ouchy 49",
         "étud",
         null
        ],
        [
         "14",
         ". Riant-Mont 25.",
         "emp. comm', '.,av",
         "commerce de détail"
        ],
        [
         "15",
         "ch.de Montelly 58",
         "boulanger",
         "produits alimentaires"
        ],
        [
         "16",
         "chemin deMornex 3",
         "journal illustré",
         "arts graphiques"
        ],
        [
         "17",
         "av.de Cour 51",
         "retraité",
         "administration publique"
        ],
        [
         "18",
         "av.Ruchonnet 27",
         "commerç.",
         "commerce de détail"
        ],
        [
         "19",
         "av. dela Harpe 35",
         "empi, de bureau",
         "bureaux de consultation"
        ],
        [
         "20",
         "r. Voltaire 7",
         "surveillant CFF",
         "transports"
        ],
        [
         "21",
         "Maupas 49",
         "man.",
         "employés pour tous,célibataires"
        ],
        [
         "22",
         "av. Florimont 11",
         "cou tur",
         "industrie textile"
        ],
        [
         "23",
         "Beau-Séjour 7",
         "commerçante",
         "commerce de détail"
        ],
        [
         "24",
         "av.Solange 4",
         "empi, postal",
         "transports"
        ],
        [
         "25",
         "r. duMaupas 23",
         "négociante",
         "commerce de détail"
        ],
        [
         "26",
         "Cheneau-de-Bourg 2', 'ruelle du Flon 9",
         "prod, de beauté",
         "produits alimentaires"
        ],
        [
         "27",
         "av.Montagibert 16",
         "commerçant",
         "commerce de détail"
        ],
        [
         "28",
         "av.de la Harpe 35",
         "man. CFF.",
         "transports"
        ],
        [
         "29",
         "cheminRenou 10",
         "tanneur",
         "industrie chimique"
        ],
        [
         "30",
         ". Marc-Dufour 35",
         "aiguilleur C. F. F.,av",
         "transports"
        ],
        [
         "31",
         "ch.de Boston 22",
         "manœuvre",
         "journaliers,entretien"
        ],
        [
         "32",
         "r.de la Louve 8",
         "peintre",
         "arts graphiques"
        ],
        [
         "33",
         "av. Montchoisi 59",
         "empi, de bureau",
         "bureaux de consultation"
        ],
        [
         "34",
         "av. du Servan 12",
         "manœuvre",
         "journaliers,entretien"
        ],
        [
         "35",
         "r.Saint-Roch 12",
         "charpentier",
         "construction,charpenterie"
        ],
        [
         "36",
         ",ch. du Mollendruz 3",
         "vitrier-encadr",
         "construction,charpenterie"
        ],
        [
         "37",
         "chdes Bruyères 13",
         "ébéniste",
         "bois,liège,meubles"
        ],
        [
         "38",
         "place du Tunnel 14",
         "ouv. photograveur",
         "arts graphiques"
        ],
        [
         "39",
         "pl.du Tunnel 14",
         "chauffeur",
         "transports"
        ],
        [
         "40",
         "ch.de Belle-Source 1",
         "maroquinier",
         "industrie textile"
        ],
        [
         "41",
         "pl.du Tunnel 9",
         "modeleur menuisier",
         "construction,charpenterie"
        ],
        [
         "42",
         "av. J.-Olivier 11",
         "étud",
         null
        ],
        [
         "43",
         "av.Juste-Olivier 11",
         "juge fédéral",
         "administration publique"
        ],
        [
         "44",
         "av.Secretan 1",
         "prof, de piano",
         "arts graphiques"
        ],
        [
         "45",
         "av.Secretan 1",
         "employé de commerce",
         "commerce de détail"
        ],
        [
         "46",
         "av. Riant-Mont 23.T. 23",
         "prof', '.",
         "employés pour tous,célibataires"
        ],
        [
         "47",
         "Clos d’Ouchy', 'ch. de Beau-Rivage",
         "méd. dentiste",
         "agences,locations,consultations"
        ],
        [
         "48",
         "av.Montagibert 22",
         "Vve",
         "employées pour le ménage et la ferme"
        ],
        [
         "49",
         ",av. Droey 18",
         "tech. chauff",
         "transports"
        ]
       ],
       "shape": {
        "columns": 3,
        "rows": 41823
       }
      },
      "text/html": [
       "<div>\n",
       "<style scoped>\n",
       "    .dataframe tbody tr th:only-of-type {\n",
       "        vertical-align: middle;\n",
       "    }\n",
       "\n",
       "    .dataframe tbody tr th {\n",
       "        vertical-align: top;\n",
       "    }\n",
       "\n",
       "    .dataframe thead th {\n",
       "        text-align: right;\n",
       "    }\n",
       "</style>\n",
       "<table border=\"1\" class=\"dataframe\">\n",
       "  <thead>\n",
       "    <tr style=\"text-align: right;\">\n",
       "      <th></th>\n",
       "      <th>LOC</th>\n",
       "      <th>job</th>\n",
       "      <th>job_clf</th>\n",
       "    </tr>\n",
       "  </thead>\n",
       "  <tbody>\n",
       "    <tr>\n",
       "      <th>0</th>\n",
       "      <td>r.Ste-Beuve 7</td>\n",
       "      <td>professeur</td>\n",
       "      <td>agences,locations,consultations</td>\n",
       "    </tr>\n",
       "    <tr>\n",
       "      <th>1</th>\n",
       "      <td>Montbenon 1.T. 22</td>\n",
       "      <td>Arc (cercle)</td>\n",
       "      <td>arts graphiques</td>\n",
       "    </tr>\n",
       "    <tr>\n",
       "      <th>2</th>\n",
       "      <td>Bereiéres 20</td>\n",
       "      <td>cuisinier</td>\n",
       "      <td>hôtellerie,restauration</td>\n",
       "    </tr>\n",
       "    <tr>\n",
       "      <th>3</th>\n",
       "      <td>,av. Tivoli 25</td>\n",
       "      <td>mont, en chauff</td>\n",
       "      <td>transports</td>\n",
       "    </tr>\n",
       "    <tr>\n",
       "      <th>4</th>\n",
       "      <td>ch.de Fontenay 15</td>\n",
       "      <td>télégraphiste</td>\n",
       "      <td>agences,locations,consultations</td>\n",
       "    </tr>\n",
       "    <tr>\n",
       "      <th>...</th>\n",
       "      <td>...</td>\n",
       "      <td>...</td>\n",
       "      <td>...</td>\n",
       "    </tr>\n",
       "    <tr>\n",
       "      <th>41818</th>\n",
       "      <td>Bugnon 34.At. ch. des Diablerets 7</td>\n",
       "      <td>tapissier</td>\n",
       "      <td>bois,liège,meubles</td>\n",
       "    </tr>\n",
       "    <tr>\n",
       "      <th>41819</th>\n",
       "      <td>av. Ouchy 33</td>\n",
       "      <td>dir. Clinique de Bois-Cerf</td>\n",
       "      <td>administration publique</td>\n",
       "    </tr>\n",
       "    <tr>\n",
       "      <th>41820</th>\n",
       "      <td>ch. de Mon-tolivet 14</td>\n",
       "      <td>vendeuse</td>\n",
       "      <td>commerce de détail</td>\n",
       "    </tr>\n",
       "    <tr>\n",
       "      <th>41821</th>\n",
       "      <td>av. Maria-Belgia 1</td>\n",
       "      <td>secrét.</td>\n",
       "      <td>bureaux de consultation</td>\n",
       "    </tr>\n",
       "    <tr>\n",
       "      <th>41822</th>\n",
       "      <td>PTT.av. Maria-Belgia 1</td>\n",
       "      <td>concessionn.</td>\n",
       "      <td>commerce de détail</td>\n",
       "    </tr>\n",
       "  </tbody>\n",
       "</table>\n",
       "<p>41823 rows × 3 columns</p>\n",
       "</div>"
      ],
      "text/plain": [
       "                                      LOC                         job  \\\n",
       "0                           r.Ste-Beuve 7                  professeur   \n",
       "1                       Montbenon 1.T. 22                Arc (cercle)   \n",
       "2                            Bereiéres 20                   cuisinier   \n",
       "3                          ,av. Tivoli 25             mont, en chauff   \n",
       "4                       ch.de Fontenay 15               télégraphiste   \n",
       "...                                   ...                         ...   \n",
       "41818  Bugnon 34.At. ch. des Diablerets 7                   tapissier   \n",
       "41819                        av. Ouchy 33  dir. Clinique de Bois-Cerf   \n",
       "41820               ch. de Mon-tolivet 14                    vendeuse   \n",
       "41821                  av. Maria-Belgia 1                     secrét.   \n",
       "41822              PTT.av. Maria-Belgia 1                concessionn.   \n",
       "\n",
       "                               job_clf  \n",
       "0      agences,locations,consultations  \n",
       "1                      arts graphiques  \n",
       "2              hôtellerie,restauration  \n",
       "3                           transports  \n",
       "4      agences,locations,consultations  \n",
       "...                                ...  \n",
       "41818               bois,liège,meubles  \n",
       "41819          administration publique  \n",
       "41820               commerce de détail  \n",
       "41821          bureaux de consultation  \n",
       "41822               commerce de détail  \n",
       "\n",
       "[41823 rows x 3 columns]"
      ]
     },
     "execution_count": 26,
     "metadata": {},
     "output_type": "execute_result"
    }
   ],
   "source": [
    "df_table.to_csv(output_file)\n",
    "df_table"
   ]
  },
  {
   "cell_type": "code",
   "execution_count": null,
   "id": "0f9a17f5",
   "metadata": {},
   "outputs": [],
   "source": []
  }
 ],
 "metadata": {
  "kernelspec": {
   "display_name": "ada_2",
   "language": "python",
   "name": "python3"
  },
  "language_info": {
   "codemirror_mode": {
    "name": "ipython",
    "version": 3
   },
   "file_extension": ".py",
   "mimetype": "text/x-python",
   "name": "python",
   "nbconvert_exporter": "python",
   "pygments_lexer": "ipython3",
   "version": "3.12.7"
  }
 },
 "nbformat": 4,
 "nbformat_minor": 5
}
