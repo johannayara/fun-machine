{
 "cells": [
  {
   "cell_type": "code",
   "execution_count": 1,
   "id": "c59d83be",
   "metadata": {},
   "outputs": [],
   "source": [
    "import pandas as pd\n",
    "import os\n",
    "from difflib import get_close_matches\n"
   ]
  },
  {
   "cell_type": "code",
   "execution_count": 2,
   "id": "46174a1d",
   "metadata": {},
   "outputs": [],
   "source": [
    "dfs_clf = [pd.read_csv(os.path.join('data', df_clf)).rename(columns={'JOB': 'job', 'answer': 'job_clf'}) for df_clf in os.listdir('data') if df_clf.endswith('_clf.csv')]"
   ]
  },
  {
   "cell_type": "code",
   "execution_count": 3,
   "id": "b25e60d4",
   "metadata": {},
   "outputs": [],
   "source": [
    "dfs_clf = [pd.read_csv(os.path.join('data', df_clf)).rename(columns={'JOB': 'job', 'answer': 'job_clf'}).dropna() for df_clf in os.listdir('data') if df_clf.endswith('_clf.csv')]\n",
    "df_salaire = pd.read_excel('data/SHS_TM.xlsx',index_col=0, header=1)"
   ]
  },
  {
   "cell_type": "code",
   "execution_count": 4,
   "id": "9cb383af",
   "metadata": {},
   "outputs": [],
   "source": [
    "\"On doit faire ça psq le LLM classifie correctement, mais par exemple vêtem, lingerie, chauss, literie va etre classifier comme vêtement, lingerie, chaussure, litterie\"\n",
    "def find_closest_job(job):\n",
    "    matches = get_close_matches(job, df_salaire.columns, n=1, cutoff=0.5)\n",
    "    if matches:\n",
    "        col = matches[0]\n",
    "    else:\n",
    "        col = None\n",
    "    return col"
   ]
  },
  {
   "cell_type": "code",
   "execution_count": 5,
   "id": "72066172",
   "metadata": {},
   "outputs": [],
   "source": [
    "for year, df in zip([1890, 1901, 1923, 1951], dfs_clf):\n",
    "    df['job_clf_real'] = df.job_clf.apply(lambda x: find_closest_job(x))\n",
    "    df['salaire'] = df.job_clf_real.apply(lambda x: df_salaire[x].loc[year])\n",
    "    df = df.drop(columns=[\"Unnamed: 0\", \"job_clf\"]).rename(columns={'job_clf_real':'job_clf'})\n",
    "    df.to_csv(f'data/table_{year}_clf.csv')"
   ]
  }
 ],
 "metadata": {
  "kernelspec": {
   "display_name": "ada_2",
   "language": "python",
   "name": "python3"
  },
  "language_info": {
   "codemirror_mode": {
    "name": "ipython",
    "version": 3
   },
   "file_extension": ".py",
   "mimetype": "text/x-python",
   "name": "python",
   "nbconvert_exporter": "python",
   "pygments_lexer": "ipython3",
   "version": "3.12.7"
  }
 },
 "nbformat": 4,
 "nbformat_minor": 5
}
