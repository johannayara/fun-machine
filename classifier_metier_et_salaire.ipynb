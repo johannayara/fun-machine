{
 "cells": [
  {
   "cell_type": "code",
   "execution_count": 5,
   "id": "4a0cdf0e",
   "metadata": {},
   "outputs": [],
   "source": [
    "import pandas as pd\n",
    "import numpy as np\n",
    "from glob import glob"
   ]
  },
  {
   "cell_type": "code",
   "execution_count": 2,
   "id": "e99c6e12",
   "metadata": {},
   "outputs": [],
   "source": [
    "metier = [\"produits alimentaires\",\"vêtements, lingerie,chaussures,literies\", \"industrie textile\", \"industrie du papier\", \n",
    "            \"arts graphiques\", \"industrie chimique\", \"bois,liège,meubles\", \"pierre et terre\", \"industrie des métaux\",  \n",
    "            \"horlogerie\",\"bijouterie,gravure,frappe\",\"construction,charpenterie\",\"gaz,eau,éléctricité\",\"commerce de gros\",\n",
    "            \"commerce de détail\",\"banques,établissements financiers\",\"assurances privées\",\"agences,locations,consultations\",\n",
    "            \"affaires immobilières,location\",\"bureaux de consultation\",\"hôtellerie,restauration\",\"transports\",\"administration publique\",\n",
    "            \"réparations\", \"vachers célibataires\",\"employés pour tous,célibataires\",\"employées pour le ménage et la ferme\",\n",
    "            \"journaliers,entretien\",\"journalières,entretien\"]"
   ]
  },
  {
   "cell_type": "code",
   "execution_count": 3,
   "id": "3d5f4031",
   "metadata": {},
   "outputs": [],
   "source": [
    "df_salaire = pd.read_excel('data/SHS_TM.xlsx',index_col=0, header=1)\n",
    "df_salaire.index = df_salaire.index.astype(str).str.strip()"
   ]
  },
  {
   "cell_type": "code",
   "execution_count": 6,
   "id": "41f05b52",
   "metadata": {},
   "outputs": [],
   "source": [
    "dfs = [pd.read_csv(file, usecols=['job', 'job_clf']) for file in glob(\"data/*_clf.csv\")]\n",
    "df = pd.concat(dfs).drop_duplicates(subset=['job'])\n",
    "df['job_clf'] = df['job_clf'].str.strip()  \n",
    "\n",
    "\n",
    "df_sal_transposed = df_salaire.T \n",
    "\n",
    "df_sal_transposed.index = df_sal_transposed.index.str.strip()\n",
    "\n",
    "def get_salaire_series(job):\n",
    "    try:\n",
    "        return df_sal_transposed.loc[job]\n",
    "    except KeyError:\n",
    "        return pd.Series([np.nan] * df_sal_transposed.shape[1], index=df_sal_transposed.columns)\n",
    "\n",
    "df_salaire_par_ligne = df['job_clf'].apply(get_salaire_series)\n",
    "\n",
    "df_final = pd.concat([df, df_salaire_par_ligne], axis=1)\n",
    "df_final.drop(['job_clf'], axis=1, inplace=True)\n",
    "df_final.set_index('job', inplace=True)\n",
    "df_final.to_csv('data/metier_to_annee.csv')\n",
    "\n"
   ]
  }
 ],
 "metadata": {
  "kernelspec": {
   "display_name": "ada_2",
   "language": "python",
   "name": "python3"
  },
  "language_info": {
   "codemirror_mode": {
    "name": "ipython",
    "version": 3
   },
   "file_extension": ".py",
   "mimetype": "text/x-python",
   "name": "python",
   "nbconvert_exporter": "python",
   "pygments_lexer": "ipython3",
   "version": "3.12.7"
  }
 },
 "nbformat": 4,
 "nbformat_minor": 5
}
