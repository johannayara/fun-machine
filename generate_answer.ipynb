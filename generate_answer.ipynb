{
 "cells": [
  {
   "cell_type": "code",
   "execution_count": 1,
   "id": "a34cda9a",
   "metadata": {},
   "outputs": [],
   "source": [
    "import openai\n",
    "import pandas as pd\n",
    "import numpy as np\n",
    "import ast\n",
    "import csv\n",
    "import concurrent.futures\n",
    "import os\n",
    "import threading\n",
    "\n",
    "lock = threading.Lock()"
   ]
  },
  {
   "cell_type": "code",
   "execution_count": 2,
   "id": "dcec2fc0",
   "metadata": {},
   "outputs": [],
   "source": [
    "salaires = [\"produits alimentaires\",\"vêtements, lingerie,chaussures,literies\", \"industrie textile\", \"industrie du papier\", \n",
    "            \"arts graphiques\", \"industrie chimique\", \"bois,liège,meubles\", \"pierre et terre\", \"industrie des métaux\",  \n",
    "            \"horlogerie\",\"bijouterie,gravure,frappe\",\"construction,charpenterie\",\"gaz,eau,éléctricité\",\"commerce de gros\",\n",
    "            \"commerce de détail\",\"banques,établissements financiers\",\"assurances privées\",\"agences,locations,consultations\",\n",
    "            \"affaires immobilières,location\",\"bureaux de consultation\",\"hôtellerie,restauration\",\"transports\",\"administration publique\",\n",
    "            \"réparations\", \"vachers célibataires\",\"employés pour tous,célibataires\",\"employées pour le ménage et la ferme\",\n",
    "            \"journaliers,entretien\",\"journalières,entretien\"]"
   ]
  },
  {
   "cell_type": "code",
   "execution_count": 3,
   "id": "231d022f",
   "metadata": {},
   "outputs": [],
   "source": [
    "df_job_mapped = pd.read_csv('classification_results.csv').rename(columns={\"answer\": 'job_clf'})\n",
    "dfs_clf = [pd.read_csv(os.path.join('data', df_clf)).rename(columns={'JOB': 'job', 'answer': 'job_clf'}) for df_clf in os.listdir('data') if df_clf.endswith('_clf.csv')]\n",
    "dfs_clf += [df_job_mapped]"
   ]
  },
  {
   "cell_type": "code",
   "execution_count": 4,
   "id": "8c4b9e2e",
   "metadata": {},
   "outputs": [],
   "source": [
    "# get every job already classified, so if we encounter this job again, we dont have to recompute its classification\n",
    "def create_dict_job_clf(list_df):\n",
    "    dict_clf = {}\n",
    "    for df in list_df:\n",
    "        for _, row in df.iterrows():\n",
    "            job, job_clf = row.job, row.job_clf\n",
    "            dict_clf[job] = job_clf\n",
    "    \n",
    "    return dict_clf\n",
    "dict_clf = create_dict_job_clf(dfs_clf)"
   ]
  },
  {
   "cell_type": "code",
   "execution_count": 6,
   "id": "322b082a",
   "metadata": {},
   "outputs": [],
   "source": [
    "def load_df(path_annuaire):\n",
    "    \"\"\"_summary_\n",
    "\n",
    "    Args:\n",
    "        path_annuaire (str): patht to the annuaire\n",
    "\n",
    "    Returns:\n",
    "        pd.DataFrame: a DataFrame cleaned\n",
    "    \"\"\"\n",
    "    df = pd.read_csv(path_annuaire).rename(columns={'JOB':'job'})\n",
    "    df = df.dropna().reset_index(drop=True)\n",
    "    return df\n",
    "df_table = load_df('data/table_1901.csv')"
   ]
  },
  {
   "cell_type": "code",
   "execution_count": 7,
   "id": "748adbd7",
   "metadata": {},
   "outputs": [],
   "source": [
    "def classify_job_already_classified(df):\n",
    "    \"\"\"_summary_\n",
    "        En gros, avec category_mapping on a deja classifier des métiers, au lieu\n",
    "        de reclassifier avec le LLM qui est cher et long, on map les métiers deja classifier\n",
    "        \n",
    "    \"\"\"\n",
    "    df['job_clf'] = df.job.apply(lambda x: dict_clf.get(x, None))\n",
    "    return df.copy(deep=True)\n"
   ]
  },
  {
   "cell_type": "code",
   "execution_count": 8,
   "id": "de41d25e",
   "metadata": {},
   "outputs": [],
   "source": [
    "df_table = classify_job_already_classified(df_table)"
   ]
  },
  {
   "cell_type": "code",
   "execution_count": 9,
   "id": "f2a5d887",
   "metadata": {},
   "outputs": [],
   "source": [
    "#Load the api_key\n",
    "path_key = \"../../key_openai/key.txt\"\n",
    "try:\n",
    "    with open(path_key, 'r') as file:\n",
    "        api_key = file.read().strip()  \n",
    "except Exception as e:\n",
    "    print(f\"error : {e}\")"
   ]
  },
  {
   "cell_type": "code",
   "execution_count": 10,
   "id": "478b6e1b",
   "metadata": {},
   "outputs": [],
   "source": [
    "client = openai.Client(api_key=api_key, base_url=\"https://fmapi.swissai.cscs.ch/\")\n",
    "\n",
    "output_file = \"data/table_1901_clf.csv\"\n",
    "\n",
    "with open(output_file, mode='w', newline='', encoding='utf-8') as f:\n",
    "    writer = csv.writer(f)\n",
    "    writer.writerow([\"job\", \"answer\"])  \n",
    "\n",
    "def classify_job(job, job_clf):\n",
    "    if job_clf != None:\n",
    "        with open(output_file, mode='a', newline='', encoding='utf-8') as f:\n",
    "            writer = csv.writer(f)\n",
    "            writer.writerow([job, job_clf])\n",
    "        return job_clf\n",
    "    \n",
    "    system_message = {\n",
    "        \"role\": \"system\",\n",
    "        \"content\": (\n",
    "            f\"You'll be given a job and you'll have to classify it according to the nearest job in a list we give you: {salaires}. Answer only with the profession in which you classify the job you are given\"\n",
    "        ),\n",
    "    }\n",
    "    answer = 'not a job'\n",
    "    idx = 0 \n",
    "\n",
    "    while answer not in salaires:\n",
    "        idx += 1\n",
    "        if idx == 10:\n",
    "            answer = None\n",
    "            break\n",
    "\n",
    "        user_message = {\n",
    "            \"role\": \"user\",\n",
    "            \"content\": f\"{job}\"\n",
    "        }\n",
    "\n",
    "        res = client.chat.completions.create(\n",
    "            model=\"meta-llama/Llama-3.3-70B-Instruct\",\n",
    "            messages=[system_message, user_message],\n",
    "            max_tokens=40,\n",
    "            stream=True,\n",
    "        )\n",
    "\n",
    "        answer = \"\"\n",
    "        for chunk in res:\n",
    "            if len(chunk.choices) > 0 and chunk.choices[0].delta.content:\n",
    "                answer += chunk.choices[0].delta.content\n",
    "    with lock:\n",
    "        dict_clf[job] = answer\n",
    "    with open(output_file, mode='a', newline='', encoding='utf-8') as f:\n",
    "        writer = csv.writer(f)\n",
    "        writer.writerow([job, answer])\n",
    "\n",
    "    return answer"
   ]
  },
  {
   "cell_type": "code",
   "execution_count": 11,
   "id": "c3acb26c",
   "metadata": {},
   "outputs": [
    {
     "data": {
      "application/vnd.microsoft.datawrangler.viewer.v0+json": {
       "columns": [
        {
         "name": "index",
         "rawType": "int64",
         "type": "integer"
        },
        {
         "name": "LOC",
         "rawType": "object",
         "type": "string"
        },
        {
         "name": "job",
         "rawType": "object",
         "type": "string"
        },
        {
         "name": "job_clf",
         "rawType": "object",
         "type": "unknown"
        }
       ],
       "conversionMethod": "pd.DataFrame",
       "ref": "2acd41e3-574b-4ea8-b283-e6455c0a68fe",
       "rows": [
        [
         "0",
         "r. SIRI erre, 2",
         "maréchal",
         "réparations"
        ],
        [
         "1",
         "La Gaîté,av. Muntriund",
         "commis de banque",
         "banques,établissements financiers"
        ],
        [
         "2",
         "r. de la Tour, 16",
         "charretier",
         "transports"
        ],
        [
         "3",
         "villa Charles, Montagibert",
         "manœuvre,",
         "journaliers,entretien"
        ],
        [
         "4",
         "maison Rcga-mey, La Sallaz.",
         "maçon",
         "construction,charpenterie"
        ],
        [
         "5",
         "Pré-du-Mar-ché, 20",
         "employé,",
         "employés pour tous,célibataires"
        ],
        [
         "6",
         "Pont Terminus.",
         "jardinier",
         "journaliers,entretien"
        ],
        [
         "7",
         "ruedu Pré, 27",
         "manœuvre,",
         "journaliers,entretien"
        ],
        [
         "8",
         "av. Théâtre, 5",
         "caissière",
         "commerce de détail"
        ],
        [
         "9",
         "Ch.-de-Bourg,",
         "couturière",
         "vêtements, lingerie,chaussures,literies"
        ],
        [
         "10",
         "av. Rumine, 64",
         "domestique,",
         "employées pour le ménage et la ferme"
        ],
        [
         "11",
         "square de Georgette",
         "dépôt de laiterie",
         "produits alimentaires"
        ],
        [
         "12",
         "r. du Pont, 2",
         "blanchisseuse",
         "employées pour le ménage et la ferme"
        ],
        [
         "13",
         "Eche-lettes, 12",
         "maçon",
         "construction,charpenterie"
        ],
        [
         "14",
         "Menthon, 16",
         "cocher",
         "réparations"
        ],
        [
         "15",
         "villa Victoria, Öuehv.",
         "voyageur decommerce",
         "commerce de détail"
        ],
        [
         "16",
         "rue do la Pontaise, 10",
         "facteur",
         "transports"
        ],
        [
         "17",
         "Tour, 14",
         "gypsiers-peintres",
         "arts graphiques"
        ],
        [
         "18",
         "Clermont,Mousquines",
         "domestique,",
         "employées pour le ménage et la ferme"
        ],
        [
         "19",
         "LesTonnelles.",
         "remplaçant postal",
         "administration publique"
        ],
        [
         "20",
         "Cité - Derrière,",
         "gendarme",
         "administration publique"
        ],
        [
         "21",
         "r. Midi",
         "cuisinière,",
         "hôtellerie,restauration"
        ],
        [
         "22",
         "Mayor,', 'villa Blanche, ro. d’Oucby",
         "chancelier d'Elal",
         "administration publique"
        ],
        [
         "23",
         "rue Neuve, II",
         "négocianten tissus",
         "commerce de gros"
        ],
        [
         "24",
         "LesLilas, ro. d'Echallcns\", 'Bourg,",
         "gérant de la Société Suisse des Commerçants",
         "commerce de gros"
        ],
        [
         "25",
         ",villa Alpina, Ouchy",
         "mécanic.-élect.",
         "industrie des métaux"
        ],
        [
         "26",
         "Les Tonnelles.",
         "facteur postal",
         "transports"
        ],
        [
         "27",
         "Pontaise, 17",
         "imprimeur",
         "arts graphiques"
        ],
        [
         "28",
         "Simplon, 22",
         "voyageur de commerce",
         "commerce de détail"
        ],
        [
         "29",
         ", av. duLéman",
         "Pléiades B",
         "arts graphiques"
        ],
        [
         "30",
         "placeSt-l’rançois,",
         "Administration des téléphones",
         "agences,locations,consultations"
        ],
        [
         "31",
         "pl.St-Laurent,",
         "du canton",
         "administration publique"
        ],
        [
         "32",
         "placeSt-l'rançois, 4",
         "fille de chambre",
         "employées pour le ménage et la ferme"
        ],
        [
         "33",
         "place St-François, 16",
         "femme de chamhre",
         "employées pour le ménage et la ferme"
        ],
        [
         "34",
         "Esc.-du-Marché, 8",
         "ménagère",
         "employées pour le ménage et la ferme"
        ],
        [
         "35",
         "avenue du Théâtre, 6",
         "cuisinière",
         "hôtellerie,restauration"
        ],
        [
         "36",
         "av. Ste-Luce, 2",
         "femme de chambre",
         "employées pour le ménage et la ferme"
        ],
        [
         "37",
         "Maupas, 2",
         "voiturier",
         "transports"
        ],
        [
         "38",
         "Grancy, 22",
         "bottier",
         "vêtements, lingerie,chaussures,literies"
        ],
        [
         "39",
         "Midi, 7",
         "cuisinière",
         "hôtellerie,restauration"
        ],
        [
         "40",
         "La Villa, Ouchy",
         "domestique,",
         "employées pour le ménage et la ferme"
        ],
        [
         "41",
         "pl. Palud, 4",
         "boulanger",
         "produits alimentaires"
        ],
        [
         "42",
         "Fetit-St-.lean, 42",
         "bouchère",
         "produits alimentaires"
        ],
        [
         "43",
         "Mau-t pas, 31",
         "tailleur",
         "vêtements, lingerie,chaussures,literies"
        ],
        [
         "44",
         "Pon-laise, 10",
         "employé,",
         "employés pour tous,célibataires"
        ],
        [
         "45",
         "Ferme deRovéréaz, Chailly",
         "domestique,",
         "employées pour le ménage et la ferme"
        ],
        [
         "46",
         "Maubor-get, 1",
         "empi,', 'de bureau', '.",
         "bureaux de consultation"
        ],
        [
         "47",
         "Maupas, 30",
         "fabricant de café', 'de figues",
         "produits alimentaires"
        ],
        [
         "48",
         "Chalet-Fleuri,ch. de Villars",
         "couturière",
         "vêtements, lingerie,chaussures,literies"
        ],
        [
         "49",
         "Maupas, 30",
         "employé au gaz",
         "gaz,eau,éléctricité"
        ]
       ],
       "shape": {
        "columns": 3,
        "rows": 13500
       }
      },
      "text/html": [
       "<div>\n",
       "<style scoped>\n",
       "    .dataframe tbody tr th:only-of-type {\n",
       "        vertical-align: middle;\n",
       "    }\n",
       "\n",
       "    .dataframe tbody tr th {\n",
       "        vertical-align: top;\n",
       "    }\n",
       "\n",
       "    .dataframe thead th {\n",
       "        text-align: right;\n",
       "    }\n",
       "</style>\n",
       "<table border=\"1\" class=\"dataframe\">\n",
       "  <thead>\n",
       "    <tr style=\"text-align: right;\">\n",
       "      <th></th>\n",
       "      <th>LOC</th>\n",
       "      <th>job</th>\n",
       "      <th>job_clf</th>\n",
       "    </tr>\n",
       "  </thead>\n",
       "  <tbody>\n",
       "    <tr>\n",
       "      <th>0</th>\n",
       "      <td>r. SIRI erre, 2</td>\n",
       "      <td>maréchal</td>\n",
       "      <td>réparations</td>\n",
       "    </tr>\n",
       "    <tr>\n",
       "      <th>1</th>\n",
       "      <td>La Gaîté,av. Muntriund</td>\n",
       "      <td>commis de banque</td>\n",
       "      <td>banques,établissements financiers</td>\n",
       "    </tr>\n",
       "    <tr>\n",
       "      <th>2</th>\n",
       "      <td>r. de la Tour, 16</td>\n",
       "      <td>charretier</td>\n",
       "      <td>transports</td>\n",
       "    </tr>\n",
       "    <tr>\n",
       "      <th>3</th>\n",
       "      <td>villa Charles, Montagibert</td>\n",
       "      <td>manœuvre,</td>\n",
       "      <td>journaliers,entretien</td>\n",
       "    </tr>\n",
       "    <tr>\n",
       "      <th>4</th>\n",
       "      <td>maison Rcga-mey, La Sallaz.</td>\n",
       "      <td>maçon</td>\n",
       "      <td>construction,charpenterie</td>\n",
       "    </tr>\n",
       "    <tr>\n",
       "      <th>...</th>\n",
       "      <td>...</td>\n",
       "      <td>...</td>\n",
       "      <td>...</td>\n",
       "    </tr>\n",
       "    <tr>\n",
       "      <th>13495</th>\n",
       "      <td>r. St-Laurent, 7</td>\n",
       "      <td>relieur</td>\n",
       "      <td>industrie du papier</td>\n",
       "    </tr>\n",
       "    <tr>\n",
       "      <th>13496</th>\n",
       "      <td>av. Simplon, 33</td>\n",
       "      <td>concierge</td>\n",
       "      <td>employées pour le ménage et la ferme</td>\n",
       "    </tr>\n",
       "    <tr>\n",
       "      <th>13497</th>\n",
       "      <td>ruedes Glaciers</td>\n",
       "      <td>Rochers de Nave</td>\n",
       "      <td>None</td>\n",
       "    </tr>\n",
       "    <tr>\n",
       "      <th>13498</th>\n",
       "      <td>Industrie, 11</td>\n",
       "      <td>boulanger</td>\n",
       "      <td>produits alimentaires</td>\n",
       "    </tr>\n",
       "    <tr>\n",
       "      <th>13499</th>\n",
       "      <td>avenue duMont Blanc</td>\n",
       "      <td>volontaire,</td>\n",
       "      <td>agences,locations,consultations</td>\n",
       "    </tr>\n",
       "  </tbody>\n",
       "</table>\n",
       "<p>13500 rows × 3 columns</p>\n",
       "</div>"
      ],
      "text/plain": [
       "                               LOC               job  \\\n",
       "0                  r. SIRI erre, 2          maréchal   \n",
       "1           La Gaîté,av. Muntriund  commis de banque   \n",
       "2                r. de la Tour, 16        charretier   \n",
       "3       villa Charles, Montagibert         manœuvre,   \n",
       "4      maison Rcga-mey, La Sallaz.             maçon   \n",
       "...                            ...               ...   \n",
       "13495             r. St-Laurent, 7           relieur   \n",
       "13496              av. Simplon, 33         concierge   \n",
       "13497              ruedes Glaciers   Rochers de Nave   \n",
       "13498                Industrie, 11         boulanger   \n",
       "13499          avenue duMont Blanc       volontaire,   \n",
       "\n",
       "                                    job_clf  \n",
       "0                               réparations  \n",
       "1         banques,établissements financiers  \n",
       "2                                transports  \n",
       "3                     journaliers,entretien  \n",
       "4                 construction,charpenterie  \n",
       "...                                     ...  \n",
       "13495                   industrie du papier  \n",
       "13496  employées pour le ménage et la ferme  \n",
       "13497                                  None  \n",
       "13498                 produits alimentaires  \n",
       "13499       agences,locations,consultations  \n",
       "\n",
       "[13500 rows x 3 columns]"
      ]
     },
     "execution_count": 11,
     "metadata": {},
     "output_type": "execute_result"
    }
   ],
   "source": [
    "df_table"
   ]
  },
  {
   "cell_type": "code",
   "execution_count": null,
   "id": "38d22077",
   "metadata": {},
   "outputs": [],
   "source": [
    "def process_row(idx_row_tuple):\n",
    "    idx, row = idx_row_tuple\n",
    "    job_clf = classify_job(row.job, row.job_clf)\n",
    "    return idx, job_clf\n",
    "\n",
    "# Créer une liste de tuples (index, row)\n",
    "rows_to_process = list(df_table.iterrows())\n",
    "\n",
    "# Utiliser ThreadPoolExecutor au lieu de ProcessPoolExecutor\n",
    "with concurrent.futures.ThreadPoolExecutor() as executor:\n",
    "    results = executor.map(process_row, rows_to_process)\n",
    "    \n",
    "    # Mettre à jour le DataFrame avec les résultats\n",
    "    for idx, job_clf in results:\n",
    "        df_table.loc[idx, 'job_clf'] = job_clf"
   ]
  },
  {
   "cell_type": "code",
   "execution_count": null,
   "id": "ce2d8108",
   "metadata": {},
   "outputs": [],
   "source": [
    "df_table.to_csv(output_file)\n",
    "df_table"
   ]
  }
 ],
 "metadata": {
  "kernelspec": {
   "display_name": "ada_2",
   "language": "python",
   "name": "python3"
  },
  "language_info": {
   "codemirror_mode": {
    "name": "ipython",
    "version": 3
   },
   "file_extension": ".py",
   "mimetype": "text/x-python",
   "name": "python",
   "nbconvert_exporter": "python",
   "pygments_lexer": "ipython3",
   "version": "3.12.7"
  }
 },
 "nbformat": 4,
 "nbformat_minor": 5
}
