{
 "cells": [
  {
   "cell_type": "code",
   "execution_count": 1,
   "id": "a34cda9a",
   "metadata": {},
   "outputs": [
    {
     "name": "stderr",
     "output_type": "stream",
     "text": [
      "c:\\Users\\Mathieu\\anaconda3\\envs\\ml_p2_Swiss_AI_Center\\Lib\\site-packages\\tqdm\\auto.py:21: TqdmWarning: IProgress not found. Please update jupyter and ipywidgets. See https://ipywidgets.readthedocs.io/en/stable/user_install.html\n",
      "  from .autonotebook import tqdm as notebook_tqdm\n"
     ]
    }
   ],
   "source": [
    "import openai\n",
    "import pandas as pd\n",
    "import numpy as np\n",
    "import swifter\n",
    "import csv\n"
   ]
  },
  {
   "cell_type": "code",
   "execution_count": 2,
   "id": "67945902",
   "metadata": {},
   "outputs": [
    {
     "data": {
      "application/vnd.microsoft.datawrangler.viewer.v0+json": {
       "columns": [
        {
         "name": "index",
         "rawType": "int64",
         "type": "integer"
        },
        {
         "name": "titre",
         "rawType": "object",
         "type": "string"
        }
       ],
       "conversionMethod": "pd.DataFrame",
       "ref": "434f8a55-862f-44a7-ac38-6c4426080850",
       "rows": [
        [
         "0",
         " de télégraphe"
        ],
        [
         "1",
         "abatjouriste"
        ],
        [
         "2",
         "abatteur"
        ],
        [
         "3",
         "accessoiriste"
        ],
        [
         "4",
         "accompagnant sexuel"
        ]
       ],
       "shape": {
        "columns": 1,
        "rows": 5
       }
      },
      "text/html": [
       "<div>\n",
       "<style scoped>\n",
       "    .dataframe tbody tr th:only-of-type {\n",
       "        vertical-align: middle;\n",
       "    }\n",
       "\n",
       "    .dataframe tbody tr th {\n",
       "        vertical-align: top;\n",
       "    }\n",
       "\n",
       "    .dataframe thead th {\n",
       "        text-align: right;\n",
       "    }\n",
       "</style>\n",
       "<table border=\"1\" class=\"dataframe\">\n",
       "  <thead>\n",
       "    <tr style=\"text-align: right;\">\n",
       "      <th></th>\n",
       "      <th>titre</th>\n",
       "    </tr>\n",
       "  </thead>\n",
       "  <tbody>\n",
       "    <tr>\n",
       "      <th>0</th>\n",
       "      <td>de télégraphe</td>\n",
       "    </tr>\n",
       "    <tr>\n",
       "      <th>1</th>\n",
       "      <td>abatjouriste</td>\n",
       "    </tr>\n",
       "    <tr>\n",
       "      <th>2</th>\n",
       "      <td>abatteur</td>\n",
       "    </tr>\n",
       "    <tr>\n",
       "      <th>3</th>\n",
       "      <td>accessoiriste</td>\n",
       "    </tr>\n",
       "    <tr>\n",
       "      <th>4</th>\n",
       "      <td>accompagnant sexuel</td>\n",
       "    </tr>\n",
       "  </tbody>\n",
       "</table>\n",
       "</div>"
      ],
      "text/plain": [
       "                 titre\n",
       "0        de télégraphe\n",
       "1         abatjouriste\n",
       "2             abatteur\n",
       "3        accessoiriste\n",
       "4  accompagnant sexuel"
      ]
     },
     "execution_count": 2,
     "metadata": {},
     "output_type": "execute_result"
    }
   ],
   "source": [
    "df = pd.read_csv('data/all_metiers.csv', usecols=['titre'])\n",
    "df.head()"
   ]
  },
  {
   "cell_type": "code",
   "execution_count": 3,
   "id": "05fb11ef",
   "metadata": {},
   "outputs": [],
   "source": [
    "salaires = [\"produits alimentaires\",\"vêtements, lingerie,chaussures,literies\", \"industrie textile\", \"industrie du papier\", \n",
    "            \"arts graphiques\", \"industrie chimique\", \"bois,liège,meubles\", \"pierre et terre\", \"industrie des métaux\",  \n",
    "            \"horlogerie\",\"bijouterie,gravure,frappe\",\"construction,charpenterie\",\"gaz,eau,éléctricité\",\"commerce de gros\",\n",
    "            \"commerce de détail\",\"banques,établissements financiers\",\"assurances privées\",\"agences,locations,consultations\",\n",
    "            \"affaires immobilières,location\",\"bureaux de consultation\",\"hôtellerie,restauration\",\"transports\",\"administration publique\",\n",
    "            \"réparations\", \"vachers célibataires\",\"employés pour tous,célibataires\",\"employées pour le ménage et la ferme\",\n",
    "            \"journaliers,entretien\",\"journalières,entretien\"]"
   ]
  },
  {
   "cell_type": "code",
   "execution_count": 4,
   "id": "f2a5d887",
   "metadata": {},
   "outputs": [],
   "source": [
    "#Load the api_key\n",
    "path_key = \"../key_openai/key.txt\"\n",
    "try:\n",
    "    with open(path_key, 'r') as file:\n",
    "        api_key = file.read().strip()  \n",
    "except Exception as e:\n",
    "    print(f\"error : {e}\")"
   ]
  },
  {
   "cell_type": "code",
   "execution_count": null,
   "id": "478b6e1b",
   "metadata": {},
   "outputs": [
    {
     "name": "stderr",
     "output_type": "stream",
     "text": [
      "Pandas Apply: 100%|██████████| 11389/11389 [1:19:23<00:00,  2.39it/s]  \n"
     ]
    }
   ],
   "source": [
    "client = openai.Client(api_key=api_key, base_url=\"https://fmapi.swissai.cscs.ch/\")\n",
    "\n",
    "output_file = \"classification_results.csv\"\n",
    "\n",
    "with open(output_file, mode='w', newline='', encoding='utf-8') as f:\n",
    "    writer = csv.writer(f)\n",
    "    writer.writerow([\"job\", \"answer\"])  \n",
    "\n",
    "def classify_job(job):\n",
    "    system_message = {\n",
    "        \"role\": \"system\",\n",
    "        \"content\": (\n",
    "            f\"You'll be given a job and you'll have to classify it according to the nearest job in a list we give you: {salaires}. Answer only with the profession in which you classify the job you are given\"\n",
    "        ),\n",
    "    }\n",
    "    answer = 'not a job'\n",
    "    idx = 0 \n",
    "\n",
    "    while answer not in salaires:\n",
    "        idx += 1\n",
    "        if idx == 10:\n",
    "            answer = None\n",
    "            break\n",
    "\n",
    "        user_message = {\n",
    "            \"role\": \"user\",\n",
    "            \"content\": f\"{job}\"\n",
    "        }\n",
    "\n",
    "        res = client.chat.completions.create(\n",
    "            model=\"meta-llama/Llama-3.3-70B-Instruct\",\n",
    "            messages=[system_message, user_message],\n",
    "            max_tokens=40,\n",
    "            stream=True,\n",
    "        )\n",
    "\n",
    "        answer = \"\"\n",
    "        for chunk in res:\n",
    "            if len(chunk.choices) > 0 and chunk.choices[0].delta.content:\n",
    "                answer += chunk.choices[0].delta.content\n",
    "\n",
    "    with open(output_file, mode='a', newline='', encoding='utf-8') as f:\n",
    "        writer = csv.writer(f)\n",
    "        writer.writerow([job, answer])\n",
    "\n",
    "    return answer\n",
    "\n",
    "#df['classification'] = df['titre'].swifter.apply(classify_job)\n"
   ]
  }
 ],
 "metadata": {
  "kernelspec": {
   "display_name": "ml_p2_Swiss_AI_Center",
   "language": "python",
   "name": "python3"
  },
  "language_info": {
   "codemirror_mode": {
    "name": "ipython",
    "version": 3
   },
   "file_extension": ".py",
   "mimetype": "text/x-python",
   "name": "python",
   "nbconvert_exporter": "python",
   "pygments_lexer": "ipython3",
   "version": "3.12.7"
  }
 },
 "nbformat": 4,
 "nbformat_minor": 5
}
